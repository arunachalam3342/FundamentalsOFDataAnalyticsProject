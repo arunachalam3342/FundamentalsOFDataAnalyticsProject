{
 "cells": [
  {
   "cell_type": "code",
   "execution_count": 1,
   "id": "08c80ccc",
   "metadata": {},
   "outputs": [
    {
     "name": "stdout",
     "output_type": "stream",
     "text": [
      "+-----+\n",
      "|hello|\n",
      "+-----+\n",
      "|spark|\n",
      "+-----+\n",
      "\n"
     ]
    }
   ],
   "source": [
    "import findspark\n",
    "findspark.init()\n",
    "\n",
    "import pyspark # only run after findspark.init()\n",
    "from pyspark.sql import SparkSession\n",
    "spark = SparkSession.builder.getOrCreate()\n",
    "\n",
    "df = spark.sql('''select 'spark' as hello ''')\n",
    "df.show()"
   ]
  },
  {
   "cell_type": "code",
   "execution_count": 2,
   "id": "3a3ebb04",
   "metadata": {},
   "outputs": [
    {
     "data": {
      "text/html": [
       "\n",
       "            <div>\n",
       "                <p><b>SparkSession - in-memory</b></p>\n",
       "                \n",
       "        <div>\n",
       "            <p><b>SparkContext</b></p>\n",
       "\n",
       "            <p><a href=\"http://LAPTOP-3R1BC3I8:4041\">Spark UI</a></p>\n",
       "\n",
       "            <dl>\n",
       "              <dt>Version</dt>\n",
       "                <dd><code>v3.3.1</code></dd>\n",
       "              <dt>Master</dt>\n",
       "                <dd><code>local[*]</code></dd>\n",
       "              <dt>AppName</dt>\n",
       "                <dd><code>pyspark-shell</code></dd>\n",
       "            </dl>\n",
       "        </div>\n",
       "        \n",
       "            </div>\n",
       "        "
      ],
      "text/plain": [
       "<pyspark.sql.session.SparkSession at 0x28e98d296d0>"
      ]
     },
     "execution_count": 2,
     "metadata": {},
     "output_type": "execute_result"
    }
   ],
   "source": [
    "spark"
   ]
  },
  {
   "cell_type": "code",
   "execution_count": 3,
   "id": "0ceeb800",
   "metadata": {},
   "outputs": [],
   "source": [
    "sc=spark.sparkContext"
   ]
  },
  {
   "cell_type": "code",
   "execution_count": 8,
   "id": "274c83f8",
   "metadata": {},
   "outputs": [],
   "source": [
    "#Load the data\n",
    "rdd=sc.textFile('CaliforniaHousing//cal_housing.data')"
   ]
  },
  {
   "cell_type": "code",
   "execution_count": 9,
   "id": "f34bf167",
   "metadata": {},
   "outputs": [],
   "source": [
    "#load the header\n",
    "header=sc.textFile('CaliforniaHousing//cal_housing.domain')"
   ]
  },
  {
   "cell_type": "code",
   "execution_count": 10,
   "id": "d1006ef7",
   "metadata": {},
   "outputs": [
    {
     "data": {
      "text/plain": [
       "['longitude: continuous.',\n",
       " 'latitude: continuous.',\n",
       " 'housingMedianAge: continuous. ',\n",
       " 'totalRooms: continuous. ',\n",
       " 'totalBedrooms: continuous. ',\n",
       " 'population: continuous. ',\n",
       " 'households: continuous. ',\n",
       " 'medianIncome: continuous. ',\n",
       " 'medianHouseValue: continuous. ']"
      ]
     },
     "execution_count": 10,
     "metadata": {},
     "output_type": "execute_result"
    }
   ],
   "source": [
    "header.collect()"
   ]
  },
  {
   "cell_type": "code",
   "execution_count": 11,
   "id": "320cec48",
   "metadata": {},
   "outputs": [
    {
     "data": {
      "text/plain": [
       "['-122.230000,37.880000,41.000000,880.000000,129.000000,322.000000,126.000000,8.325200,452600.000000',\n",
       " '-122.220000,37.860000,21.000000,7099.000000,1106.000000,2401.000000,1138.000000,8.301400,358500.000000']"
      ]
     },
     "execution_count": 11,
     "metadata": {},
     "output_type": "execute_result"
    }
   ],
   "source": [
    "rdd.take(2)"
   ]
  },
  {
   "cell_type": "code",
   "execution_count": 12,
   "id": "cbc8722b",
   "metadata": {},
   "outputs": [],
   "source": [
    "rdd=rdd.map(lambda line: line.split(\",\")) #split lines on commas"
   ]
  },
  {
   "cell_type": "code",
   "execution_count": 13,
   "id": "d394df24",
   "metadata": {},
   "outputs": [
    {
     "data": {
      "text/plain": [
       "[['-122.230000',\n",
       "  '37.880000',\n",
       "  '41.000000',\n",
       "  '880.000000',\n",
       "  '129.000000',\n",
       "  '322.000000',\n",
       "  '126.000000',\n",
       "  '8.325200',\n",
       "  '452600.000000'],\n",
       " ['-122.220000',\n",
       "  '37.860000',\n",
       "  '21.000000',\n",
       "  '7099.000000',\n",
       "  '1106.000000',\n",
       "  '2401.000000',\n",
       "  '1138.000000',\n",
       "  '8.301400',\n",
       "  '358500.000000']]"
      ]
     },
     "execution_count": 13,
     "metadata": {},
     "output_type": "execute_result"
    }
   ],
   "source": [
    "rdd.take(2)"
   ]
  },
  {
   "cell_type": "code",
   "execution_count": 14,
   "id": "12caa9fe",
   "metadata": {},
   "outputs": [
    {
     "data": {
      "text/plain": [
       "['-122.230000',\n",
       " '37.880000',\n",
       " '41.000000',\n",
       " '880.000000',\n",
       " '129.000000',\n",
       " '322.000000',\n",
       " '126.000000',\n",
       " '8.325200',\n",
       " '452600.000000']"
      ]
     },
     "execution_count": 14,
     "metadata": {},
     "output_type": "execute_result"
    }
   ],
   "source": [
    "rdd.first()"
   ]
  },
  {
   "cell_type": "code",
   "execution_count": 15,
   "id": "cac5a10e",
   "metadata": {},
   "outputs": [
    {
     "data": {
      "text/plain": [
       "[['-124.350000',\n",
       "  '40.540000',\n",
       "  '52.000000',\n",
       "  '1820.000000',\n",
       "  '300.000000',\n",
       "  '806.000000',\n",
       "  '270.000000',\n",
       "  '3.014700',\n",
       "  '94600.000000'],\n",
       " ['-124.300000',\n",
       "  '41.840000',\n",
       "  '17.000000',\n",
       "  '2677.000000',\n",
       "  '531.000000',\n",
       "  '1244.000000',\n",
       "  '456.000000',\n",
       "  '3.031300',\n",
       "  '103600.000000']]"
      ]
     },
     "execution_count": 15,
     "metadata": {},
     "output_type": "execute_result"
    }
   ],
   "source": [
    "rdd.top(2)"
   ]
  },
  {
   "cell_type": "code",
   "execution_count": 16,
   "id": "63bea4b0",
   "metadata": {},
   "outputs": [],
   "source": [
    "from pyspark.sql import Row\n",
    "#RDD to a Df\n",
    "df=rdd.map(lambda line: Row(longitude=line[0],\n",
    "                           latitude=line[1],\n",
    "                           housingMedianAge=line[2],\n",
    "                           totalRooms=line[3],\n",
    "                           totalBedRooms=line[4],\n",
    "                           population=line[5],\n",
    "                           households=line[6],\n",
    "                           medianIncome=line[7],\n",
    "                           medianHouseValue=line[8])).toDF()"
   ]
  },
  {
   "cell_type": "code",
   "execution_count": 17,
   "id": "35c3d4e5",
   "metadata": {},
   "outputs": [
    {
     "name": "stdout",
     "output_type": "stream",
     "text": [
      "+-----------+---------+----------------+-----------+-------------+-----------+-----------+------------+----------------+\n",
      "|  longitude| latitude|housingMedianAge| totalRooms|totalBedRooms| population| households|medianIncome|medianHouseValue|\n",
      "+-----------+---------+----------------+-----------+-------------+-----------+-----------+------------+----------------+\n",
      "|-122.230000|37.880000|       41.000000| 880.000000|   129.000000| 322.000000| 126.000000|    8.325200|   452600.000000|\n",
      "|-122.220000|37.860000|       21.000000|7099.000000|  1106.000000|2401.000000|1138.000000|    8.301400|   358500.000000|\n",
      "|-122.240000|37.850000|       52.000000|1467.000000|   190.000000| 496.000000| 177.000000|    7.257400|   352100.000000|\n",
      "|-122.250000|37.850000|       52.000000|1274.000000|   235.000000| 558.000000| 219.000000|    5.643100|   341300.000000|\n",
      "|-122.250000|37.850000|       52.000000|1627.000000|   280.000000| 565.000000| 259.000000|    3.846200|   342200.000000|\n",
      "|-122.250000|37.850000|       52.000000| 919.000000|   213.000000| 413.000000| 193.000000|    4.036800|   269700.000000|\n",
      "|-122.250000|37.840000|       52.000000|2535.000000|   489.000000|1094.000000| 514.000000|    3.659100|   299200.000000|\n",
      "|-122.250000|37.840000|       52.000000|3104.000000|   687.000000|1157.000000| 647.000000|    3.120000|   241400.000000|\n",
      "|-122.260000|37.840000|       42.000000|2555.000000|   665.000000|1206.000000| 595.000000|    2.080400|   226700.000000|\n",
      "|-122.250000|37.840000|       52.000000|3549.000000|   707.000000|1551.000000| 714.000000|    3.691200|   261100.000000|\n",
      "|-122.260000|37.850000|       52.000000|2202.000000|   434.000000| 910.000000| 402.000000|    3.203100|   281500.000000|\n",
      "|-122.260000|37.850000|       52.000000|3503.000000|   752.000000|1504.000000| 734.000000|    3.270500|   241800.000000|\n",
      "|-122.260000|37.850000|       52.000000|2491.000000|   474.000000|1098.000000| 468.000000|    3.075000|   213500.000000|\n",
      "|-122.260000|37.840000|       52.000000| 696.000000|   191.000000| 345.000000| 174.000000|    2.673600|   191300.000000|\n",
      "|-122.260000|37.850000|       52.000000|2643.000000|   626.000000|1212.000000| 620.000000|    1.916700|   159200.000000|\n",
      "|-122.260000|37.850000|       50.000000|1120.000000|   283.000000| 697.000000| 264.000000|    2.125000|   140000.000000|\n",
      "|-122.270000|37.850000|       52.000000|1966.000000|   347.000000| 793.000000| 331.000000|    2.775000|   152500.000000|\n",
      "|-122.270000|37.850000|       52.000000|1228.000000|   293.000000| 648.000000| 303.000000|    2.120200|   155500.000000|\n",
      "|-122.260000|37.840000|       50.000000|2239.000000|   455.000000| 990.000000| 419.000000|    1.991100|   158700.000000|\n",
      "|-122.270000|37.840000|       52.000000|1503.000000|   298.000000| 690.000000| 275.000000|    2.603300|   162900.000000|\n",
      "+-----------+---------+----------------+-----------+-------------+-----------+-----------+------------+----------------+\n",
      "only showing top 20 rows\n",
      "\n"
     ]
    }
   ],
   "source": [
    "df.show()"
   ]
  },
  {
   "cell_type": "code",
   "execution_count": 18,
   "id": "538d82d7",
   "metadata": {},
   "outputs": [
    {
     "data": {
      "text/plain": [
       "['longitude',\n",
       " 'latitude',\n",
       " 'housingMedianAge',\n",
       " 'totalRooms',\n",
       " 'totalBedRooms',\n",
       " 'population',\n",
       " 'households',\n",
       " 'medianIncome',\n",
       " 'medianHouseValue']"
      ]
     },
     "execution_count": 18,
     "metadata": {},
     "output_type": "execute_result"
    }
   ],
   "source": [
    "df.columns"
   ]
  },
  {
   "cell_type": "code",
   "execution_count": 19,
   "id": "2a198c55",
   "metadata": {},
   "outputs": [
    {
     "data": {
      "text/plain": [
       "[('longitude', 'string'),\n",
       " ('latitude', 'string'),\n",
       " ('housingMedianAge', 'string'),\n",
       " ('totalRooms', 'string'),\n",
       " ('totalBedRooms', 'string'),\n",
       " ('population', 'string'),\n",
       " ('households', 'string'),\n",
       " ('medianIncome', 'string'),\n",
       " ('medianHouseValue', 'string')]"
      ]
     },
     "execution_count": 19,
     "metadata": {},
     "output_type": "execute_result"
    }
   ],
   "source": [
    "df.dtypes"
   ]
  },
  {
   "cell_type": "code",
   "execution_count": 20,
   "id": "28536622",
   "metadata": {},
   "outputs": [
    {
     "name": "stdout",
     "output_type": "stream",
     "text": [
      "root\n",
      " |-- longitude: string (nullable = true)\n",
      " |-- latitude: string (nullable = true)\n",
      " |-- housingMedianAge: string (nullable = true)\n",
      " |-- totalRooms: string (nullable = true)\n",
      " |-- totalBedRooms: string (nullable = true)\n",
      " |-- population: string (nullable = true)\n",
      " |-- households: string (nullable = true)\n",
      " |-- medianIncome: string (nullable = true)\n",
      " |-- medianHouseValue: string (nullable = true)\n",
      "\n"
     ]
    }
   ],
   "source": [
    "df.printSchema()"
   ]
  },
  {
   "cell_type": "code",
   "execution_count": 21,
   "id": "0612896a",
   "metadata": {},
   "outputs": [],
   "source": [
    "#change the dtype of the columns\n",
    "from pyspark.sql.types import *\n",
    "\n",
    "def convertCol(df,names,newType):\n",
    "    for i in names:\n",
    "        df=df.withColumn(i,df[i].cast(newType))\n",
    "    return df\n",
    "\n",
    "columns=df.columns\n",
    "df=convertCol(df,columns,FloatType())"
   ]
  },
  {
   "cell_type": "code",
   "execution_count": 22,
   "id": "75742294",
   "metadata": {},
   "outputs": [
    {
     "name": "stdout",
     "output_type": "stream",
     "text": [
      "root\n",
      " |-- longitude: float (nullable = true)\n",
      " |-- latitude: float (nullable = true)\n",
      " |-- housingMedianAge: float (nullable = true)\n",
      " |-- totalRooms: float (nullable = true)\n",
      " |-- totalBedRooms: float (nullable = true)\n",
      " |-- population: float (nullable = true)\n",
      " |-- households: float (nullable = true)\n",
      " |-- medianIncome: float (nullable = true)\n",
      " |-- medianHouseValue: float (nullable = true)\n",
      "\n"
     ]
    }
   ],
   "source": [
    "df.printSchema()"
   ]
  },
  {
   "cell_type": "code",
   "execution_count": 23,
   "id": "047a6138",
   "metadata": {},
   "outputs": [
    {
     "name": "stdout",
     "output_type": "stream",
     "text": [
      "+----------+-------------+\n",
      "|population|totalBedRooms|\n",
      "+----------+-------------+\n",
      "|     322.0|        129.0|\n",
      "|    2401.0|       1106.0|\n",
      "|     496.0|        190.0|\n",
      "|     558.0|        235.0|\n",
      "|     565.0|        280.0|\n",
      "|     413.0|        213.0|\n",
      "|    1094.0|        489.0|\n",
      "|    1157.0|        687.0|\n",
      "|    1206.0|        665.0|\n",
      "|    1551.0|        707.0|\n",
      "+----------+-------------+\n",
      "only showing top 10 rows\n",
      "\n"
     ]
    }
   ],
   "source": [
    "df.select('population','totalBedRooms').show(10)"
   ]
  },
  {
   "cell_type": "code",
   "execution_count": 24,
   "id": "2ce1db48",
   "metadata": {},
   "outputs": [
    {
     "name": "stdout",
     "output_type": "stream",
     "text": [
      "+----------------+-----+\n",
      "|housingMedianAge|count|\n",
      "+----------------+-----+\n",
      "|            52.0| 1273|\n",
      "|            51.0|   48|\n",
      "|            50.0|  136|\n",
      "|            49.0|  134|\n",
      "|            48.0|  177|\n",
      "|            47.0|  198|\n",
      "|            46.0|  245|\n",
      "|            45.0|  294|\n",
      "|            44.0|  356|\n",
      "|            43.0|  353|\n",
      "|            42.0|  368|\n",
      "|            41.0|  296|\n",
      "|            40.0|  304|\n",
      "|            39.0|  369|\n",
      "|            38.0|  394|\n",
      "|            37.0|  537|\n",
      "|            36.0|  862|\n",
      "|            35.0|  824|\n",
      "|            34.0|  689|\n",
      "|            33.0|  615|\n",
      "+----------------+-----+\n",
      "only showing top 20 rows\n",
      "\n"
     ]
    }
   ],
   "source": [
    "df.groupBy('housingMedianAge').count().sort(\"housingMedianAge\",ascending=False).show()"
   ]
  },
  {
   "cell_type": "code",
   "execution_count": 25,
   "id": "b2c5fdc2",
   "metadata": {},
   "outputs": [
    {
     "data": {
      "text/html": [
       "<div>\n",
       "<style scoped>\n",
       "    .dataframe tbody tr th:only-of-type {\n",
       "        vertical-align: middle;\n",
       "    }\n",
       "\n",
       "    .dataframe tbody tr th {\n",
       "        vertical-align: top;\n",
       "    }\n",
       "\n",
       "    .dataframe thead th {\n",
       "        text-align: right;\n",
       "    }\n",
       "</style>\n",
       "<table border=\"1\" class=\"dataframe\">\n",
       "  <thead>\n",
       "    <tr style=\"text-align: right;\">\n",
       "      <th></th>\n",
       "      <th>0</th>\n",
       "      <th>1</th>\n",
       "      <th>2</th>\n",
       "      <th>3</th>\n",
       "      <th>4</th>\n",
       "    </tr>\n",
       "  </thead>\n",
       "  <tbody>\n",
       "    <tr>\n",
       "      <th>summary</th>\n",
       "      <td>count</td>\n",
       "      <td>mean</td>\n",
       "      <td>stddev</td>\n",
       "      <td>min</td>\n",
       "      <td>max</td>\n",
       "    </tr>\n",
       "    <tr>\n",
       "      <th>longitude</th>\n",
       "      <td>20640</td>\n",
       "      <td>-119.56970444871473</td>\n",
       "      <td>2.0035317429328914</td>\n",
       "      <td>-124.35</td>\n",
       "      <td>-114.31</td>\n",
       "    </tr>\n",
       "    <tr>\n",
       "      <th>latitude</th>\n",
       "      <td>20640</td>\n",
       "      <td>35.63186143109965</td>\n",
       "      <td>2.1359523806029554</td>\n",
       "      <td>32.54</td>\n",
       "      <td>41.95</td>\n",
       "    </tr>\n",
       "    <tr>\n",
       "      <th>housingMedianAge</th>\n",
       "      <td>20640</td>\n",
       "      <td>28.639486434108527</td>\n",
       "      <td>12.585557612111613</td>\n",
       "      <td>1.0</td>\n",
       "      <td>52.0</td>\n",
       "    </tr>\n",
       "    <tr>\n",
       "      <th>totalRooms</th>\n",
       "      <td>20640</td>\n",
       "      <td>2635.7630813953488</td>\n",
       "      <td>2181.6152515827994</td>\n",
       "      <td>2.0</td>\n",
       "      <td>39320.0</td>\n",
       "    </tr>\n",
       "    <tr>\n",
       "      <th>totalBedRooms</th>\n",
       "      <td>20640</td>\n",
       "      <td>537.8980135658915</td>\n",
       "      <td>421.2479059431315</td>\n",
       "      <td>1.0</td>\n",
       "      <td>6445.0</td>\n",
       "    </tr>\n",
       "    <tr>\n",
       "      <th>population</th>\n",
       "      <td>20640</td>\n",
       "      <td>1425.4767441860465</td>\n",
       "      <td>1132.4621217653385</td>\n",
       "      <td>3.0</td>\n",
       "      <td>35682.0</td>\n",
       "    </tr>\n",
       "    <tr>\n",
       "      <th>households</th>\n",
       "      <td>20640</td>\n",
       "      <td>499.5396802325581</td>\n",
       "      <td>382.32975283161136</td>\n",
       "      <td>1.0</td>\n",
       "      <td>6082.0</td>\n",
       "    </tr>\n",
       "    <tr>\n",
       "      <th>medianIncome</th>\n",
       "      <td>20640</td>\n",
       "      <td>3.8706710030346416</td>\n",
       "      <td>1.8998217183639672</td>\n",
       "      <td>0.4999</td>\n",
       "      <td>15.0001</td>\n",
       "    </tr>\n",
       "    <tr>\n",
       "      <th>medianHouseValue</th>\n",
       "      <td>20640</td>\n",
       "      <td>206855.81690891474</td>\n",
       "      <td>115395.61587441381</td>\n",
       "      <td>14999.0</td>\n",
       "      <td>500001.0</td>\n",
       "    </tr>\n",
       "  </tbody>\n",
       "</table>\n",
       "</div>"
      ],
      "text/plain": [
       "                      0                    1                   2        3  \\\n",
       "summary           count                 mean              stddev      min   \n",
       "longitude         20640  -119.56970444871473  2.0035317429328914  -124.35   \n",
       "latitude          20640    35.63186143109965  2.1359523806029554    32.54   \n",
       "housingMedianAge  20640   28.639486434108527  12.585557612111613      1.0   \n",
       "totalRooms        20640   2635.7630813953488  2181.6152515827994      2.0   \n",
       "totalBedRooms     20640    537.8980135658915   421.2479059431315      1.0   \n",
       "population        20640   1425.4767441860465  1132.4621217653385      3.0   \n",
       "households        20640    499.5396802325581  382.32975283161136      1.0   \n",
       "medianIncome      20640   3.8706710030346416  1.8998217183639672   0.4999   \n",
       "medianHouseValue  20640   206855.81690891474  115395.61587441381  14999.0   \n",
       "\n",
       "                         4  \n",
       "summary                max  \n",
       "longitude          -114.31  \n",
       "latitude             41.95  \n",
       "housingMedianAge      52.0  \n",
       "totalRooms         39320.0  \n",
       "totalBedRooms       6445.0  \n",
       "population         35682.0  \n",
       "households          6082.0  \n",
       "medianIncome       15.0001  \n",
       "medianHouseValue  500001.0  "
      ]
     },
     "execution_count": 25,
     "metadata": {},
     "output_type": "execute_result"
    }
   ],
   "source": [
    "df.describe().toPandas().transpose()"
   ]
  },
  {
   "cell_type": "code",
   "execution_count": 26,
   "id": "188a3d70",
   "metadata": {},
   "outputs": [],
   "source": [
    "from pyspark.sql import functions as F"
   ]
  },
  {
   "cell_type": "code",
   "execution_count": 27,
   "id": "440d8daa",
   "metadata": {},
   "outputs": [
    {
     "name": "stdout",
     "output_type": "stream",
     "text": [
      "+---------+--------+----------------+----------+-------------+----------+----------+------------+----------------+\n",
      "|longitude|latitude|housingMedianAge|totalRooms|totalBedRooms|population|households|medianIncome|medianHouseValue|\n",
      "+---------+--------+----------------+----------+-------------+----------+----------+------------+----------------+\n",
      "|        0|       0|               0|         0|            0|         0|         0|           0|               0|\n",
      "+---------+--------+----------------+----------+-------------+----------+----------+------------+----------------+\n",
      "\n"
     ]
    }
   ],
   "source": [
    "df.select([F.count(F.when(F.isnan(c)| F.col(c).isNull(),c)).alias(c) for c in df.columns]).show() #no.of missing values"
   ]
  },
  {
   "cell_type": "code",
   "execution_count": 28,
   "id": "7ff25bbd",
   "metadata": {},
   "outputs": [
    {
     "name": "stdout",
     "output_type": "stream",
     "text": [
      "Correlation with medianHouseValue for  longitude -0.04596662870931127\n",
      "Correlation with medianHouseValue for  latitude -0.14416027126511122\n",
      "Correlation with medianHouseValue for  housingMedianAge 0.10562341249321103\n",
      "Correlation with medianHouseValue for  totalRooms 0.1341531138065622\n",
      "Correlation with medianHouseValue for  totalBedRooms 0.050593788812066755\n",
      "Correlation with medianHouseValue for  population -0.02464967888889506\n",
      "Correlation with medianHouseValue for  households 0.06584265057005644\n",
      "Correlation with medianHouseValue for  medianIncome 0.688075207464696\n",
      "Correlation with medianHouseValue for  medianHouseValue 1.0\n"
     ]
    }
   ],
   "source": [
    "import six\n",
    "for i in df.columns:\n",
    "    if not(isinstance(df.select(i).take(1)[0][0],six.string_types)):\n",
    "        print(\"Correlation with medianHouseValue for \",i,df.stat.corr('medianHouseValue',i))"
   ]
  },
  {
   "cell_type": "code",
   "execution_count": 29,
   "id": "759bd9c0",
   "metadata": {},
   "outputs": [
    {
     "data": {
      "text/plain": [
       "[Row(longitude=-122.2300033569336, latitude=37.880001068115234, housingMedianAge=41.0, totalRooms=880.0, totalBedRooms=129.0, population=322.0, households=126.0, medianIncome=8.325200080871582, medianHouseValue=4.526),\n",
       " Row(longitude=-122.22000122070312, latitude=37.86000061035156, housingMedianAge=21.0, totalRooms=7099.0, totalBedRooms=1106.0, population=2401.0, households=1138.0, medianIncome=8.301400184631348, medianHouseValue=3.585)]"
      ]
     },
     "execution_count": 29,
     "metadata": {},
     "output_type": "execute_result"
    }
   ],
   "source": [
    "#preprocessing\n",
    "from pyspark.sql.functions import *\n",
    "df=df.withColumn(\"medianHouseValue\",col(\"medianHouseValue\")/100000) #adjust the values\n",
    "df.take(2)"
   ]
  },
  {
   "cell_type": "code",
   "execution_count": 30,
   "id": "0b0c55c8",
   "metadata": {},
   "outputs": [
    {
     "data": {
      "text/plain": [
       "Row(longitude=-122.2300033569336, latitude=37.880001068115234, housingMedianAge=41.0, totalRooms=880.0, totalBedRooms=129.0, population=322.0, households=126.0, medianIncome=8.325200080871582, medianHouseValue=4.526, roomsPerHousehold=6.984126984126984, populationPerHousehold=2.5555555555555554, bedroomsPerRoom=0.14659090909090908)"
      ]
     },
     "execution_count": 30,
     "metadata": {},
     "output_type": "execute_result"
    }
   ],
   "source": [
    "#feature engineering\n",
    "roomsPerHousehold=df.select(col(\"totalRooms\")/col(\"households\"))\n",
    "populationPerHousehold=df.select(col(\"population\")/col(\"houseHolds\"))\n",
    "bedroomsPerRoom=df.select(col(\"totalBedRooms\")/col(\"totalRooms\"))\n",
    "df=df.withColumn(\"roomsPerHousehold\",col(\"totalRooms\")/col(\"households\")).withColumn(\"populationPerHousehold\",col(\"population\")/col(\"houseHolds\")).withColumn(\"bedroomsPerRoom\",col(\"totalBedRooms\")/col(\"totalRooms\"))\n",
    "df.first()"
   ]
  },
  {
   "cell_type": "code",
   "execution_count": 31,
   "id": "ceb037bc",
   "metadata": {},
   "outputs": [
    {
     "data": {
      "text/plain": [
       "['longitude',\n",
       " 'latitude',\n",
       " 'housingMedianAge',\n",
       " 'totalRooms',\n",
       " 'totalBedRooms',\n",
       " 'population',\n",
       " 'households',\n",
       " 'medianIncome',\n",
       " 'medianHouseValue',\n",
       " 'roomsPerHousehold',\n",
       " 'populationPerHousehold',\n",
       " 'bedroomsPerRoom']"
      ]
     },
     "execution_count": 31,
     "metadata": {},
     "output_type": "execute_result"
    }
   ],
   "source": [
    "df.columns"
   ]
  },
  {
   "cell_type": "code",
   "execution_count": 32,
   "id": "a3a09b50",
   "metadata": {},
   "outputs": [
    {
     "data": {
      "text/plain": [
       "12"
      ]
     },
     "execution_count": 32,
     "metadata": {},
     "output_type": "execute_result"
    }
   ],
   "source": [
    "len(df.columns)"
   ]
  },
  {
   "cell_type": "code",
   "execution_count": 33,
   "id": "751824a1",
   "metadata": {},
   "outputs": [],
   "source": [
    "#re-order the columns\n",
    "df=df.select(\"medianHouseValue\",\n",
    "            \"longitude\",\n",
    "            \"latitude\",\n",
    "            \"totalRooms\",\n",
    "            \"housingMedianAge\",\n",
    "            \"totalBedRooms\",\n",
    "            \"population\",\n",
    "            \"households\",\n",
    "            \"medianIncome\",\n",
    "            \"roomsPerHousehold\",\n",
    "            \"populationPerHousehold\",\n",
    "            \"bedroomsPerRoom\")"
   ]
  },
  {
   "cell_type": "code",
   "execution_count": 34,
   "id": "fee6c75f",
   "metadata": {},
   "outputs": [
    {
     "name": "stdout",
     "output_type": "stream",
     "text": [
      "+----------------+---------+--------+----------+----------------+-------------+----------+----------+------------+------------------+----------------------+-------------------+\n",
      "|medianHouseValue|longitude|latitude|totalRooms|housingMedianAge|totalBedRooms|population|households|medianIncome| roomsPerHousehold|populationPerHousehold|    bedroomsPerRoom|\n",
      "+----------------+---------+--------+----------+----------------+-------------+----------+----------+------------+------------------+----------------------+-------------------+\n",
      "|           4.526|  -122.23|   37.88|     880.0|            41.0|        129.0|     322.0|     126.0|      8.3252| 6.984126984126984|    2.5555555555555554|0.14659090909090908|\n",
      "|           3.585|  -122.22|   37.86|    7099.0|            21.0|       1106.0|    2401.0|    1138.0|      8.3014| 6.238137082601054|     2.109841827768014|0.15579659106916466|\n",
      "|           3.521|  -122.24|   37.85|    1467.0|            52.0|        190.0|     496.0|     177.0|      7.2574| 8.288135593220339|    2.8022598870056497|0.12951601908657123|\n",
      "|           3.413|  -122.25|   37.85|    1274.0|            52.0|        235.0|     558.0|     219.0|      5.6431|5.8173515981735155|     2.547945205479452|0.18445839874411302|\n",
      "|           3.422|  -122.25|   37.85|    1627.0|            52.0|        280.0|     565.0|     259.0|      3.8462| 6.281853281853282|    2.1814671814671813| 0.1720958819913952|\n",
      "|           2.697|  -122.25|   37.85|     919.0|            52.0|        213.0|     413.0|     193.0|      4.0368| 4.761658031088083|     2.139896373056995|0.23177366702937977|\n",
      "|           2.992|  -122.25|   37.84|    2535.0|            52.0|        489.0|    1094.0|     514.0|      3.6591|4.9319066147859925|    2.1284046692607004|0.19289940828402366|\n",
      "|           2.414|  -122.25|   37.84|    3104.0|            52.0|        687.0|    1157.0|     647.0|        3.12| 4.797527047913447|    1.7882534775888717|0.22132731958762886|\n",
      "|           2.267|  -122.26|   37.84|    2555.0|            42.0|        665.0|    1206.0|     595.0|      2.0804| 4.294117647058823|     2.026890756302521| 0.2602739726027397|\n",
      "|           2.611|  -122.25|   37.84|    3549.0|            52.0|        707.0|    1551.0|     714.0|      3.6912| 4.970588235294118|     2.172268907563025| 0.1992110453648915|\n",
      "|           2.815|  -122.26|   37.85|    2202.0|            52.0|        434.0|     910.0|     402.0|      3.2031| 5.477611940298507|     2.263681592039801|0.19709355131698456|\n",
      "|           2.418|  -122.26|   37.85|    3503.0|            52.0|        752.0|    1504.0|     734.0|      3.2705| 4.772479564032698|    2.0490463215258856| 0.2146731373108764|\n",
      "|           2.135|  -122.26|   37.85|    2491.0|            52.0|        474.0|    1098.0|     468.0|       3.075| 5.322649572649572|    2.3461538461538463| 0.1902850260939382|\n",
      "|           1.913|  -122.26|   37.84|     696.0|            52.0|        191.0|     345.0|     174.0|      2.6736|               4.0|    1.9827586206896552| 0.2744252873563218|\n",
      "|           1.592|  -122.26|   37.85|    2643.0|            52.0|        626.0|    1212.0|     620.0|      1.9167| 4.262903225806451|    1.9548387096774194|0.23685206205069997|\n",
      "|             1.4|  -122.26|   37.85|    1120.0|            50.0|        283.0|     697.0|     264.0|       2.125| 4.242424242424242|     2.640151515151515| 0.2526785714285714|\n",
      "|           1.525|  -122.27|   37.85|    1966.0|            52.0|        347.0|     793.0|     331.0|       2.775|5.9395770392749245|     2.395770392749245|0.17650050864699898|\n",
      "|           1.555|  -122.27|   37.85|    1228.0|            52.0|        293.0|     648.0|     303.0|      2.1202| 4.052805280528053|    2.1386138613861387|0.23859934853420195|\n",
      "|           1.587|  -122.26|   37.84|    2239.0|            50.0|        455.0|     990.0|     419.0|      1.9911| 5.343675417661098|    2.3627684964200477|0.20321572130415363|\n",
      "|           1.629|  -122.27|   37.84|    1503.0|            52.0|        298.0|     690.0|     275.0|      2.6033| 5.465454545454546|    2.5090909090909093|0.19827012641383898|\n",
      "+----------------+---------+--------+----------+----------------+-------------+----------+----------+------------+------------------+----------------------+-------------------+\n",
      "only showing top 20 rows\n",
      "\n"
     ]
    }
   ],
   "source": [
    "df.show()"
   ]
  },
  {
   "cell_type": "code",
   "execution_count": 35,
   "id": "2973b4d4",
   "metadata": {},
   "outputs": [],
   "source": [
    "from pyspark.ml.linalg import DenseVector\n",
    "input_data=df.rdd.map(lambda x: (x[0],DenseVector(x[1:])))"
   ]
  },
  {
   "cell_type": "code",
   "execution_count": 36,
   "id": "24696072",
   "metadata": {},
   "outputs": [],
   "source": [
    "df=spark.createDataFrame(input_data,[\"label\",\"features\"])"
   ]
  },
  {
   "cell_type": "code",
   "execution_count": 37,
   "id": "dadeca16",
   "metadata": {},
   "outputs": [
    {
     "data": {
      "text/plain": [
       "[Row(label=4.526, features=DenseVector([-122.23, 37.88, 880.0, 41.0, 129.0, 322.0, 126.0, 8.3252, 6.9841, 2.5556, 0.1466])),\n",
       " Row(label=3.585, features=DenseVector([-122.22, 37.86, 7099.0, 21.0, 1106.0, 2401.0, 1138.0, 8.3014, 6.2381, 2.1098, 0.1558]))]"
      ]
     },
     "execution_count": 37,
     "metadata": {},
     "output_type": "execute_result"
    }
   ],
   "source": [
    "df.take(2)"
   ]
  },
  {
   "cell_type": "code",
   "execution_count": 38,
   "id": "d40621dd",
   "metadata": {},
   "outputs": [
    {
     "data": {
      "text/plain": [
       "[Row(label=4.526, features=DenseVector([-122.23, 37.88, 880.0, 41.0, 129.0, 322.0, 126.0, 8.3252, 6.9841, 2.5556, 0.1466]), features_scaled=DenseVector([-61.0073, 17.7345, 0.4034, 3.2577, 0.3062, 0.2843, 0.3296, 4.3821, 2.8228, 0.2461, 2.5264])),\n",
       " Row(label=3.585, features=DenseVector([-122.22, 37.86, 7099.0, 21.0, 1106.0, 2401.0, 1138.0, 8.3014, 6.2381, 2.1098, 0.1558]), features_scaled=DenseVector([-61.0023, 17.7251, 3.254, 1.6686, 2.6255, 2.1202, 2.9765, 4.3696, 2.5213, 0.2031, 2.6851]))]"
      ]
     },
     "execution_count": 38,
     "metadata": {},
     "output_type": "execute_result"
    }
   ],
   "source": [
    "from pyspark.ml.feature import StandardScaler\n",
    "standardScaler=StandardScaler(inputCol=\"features\",outputCol=\"features_scaled\")\n",
    "scaler=standardScaler.fit(df)\n",
    "scaled_df=scaler.transform(df)\n",
    "scaled_df.take(2)"
   ]
  },
  {
   "cell_type": "code",
   "execution_count": 39,
   "id": "f9f64f23",
   "metadata": {},
   "outputs": [],
   "source": [
    "#split the data into train and test sets\n",
    "train_data, test_data =scaled_df.randomSplit([.8,.2],seed=1234)"
   ]
  },
  {
   "cell_type": "code",
   "execution_count": 40,
   "id": "fb44c8b3",
   "metadata": {},
   "outputs": [
    {
     "data": {
      "text/plain": [
       "[Row(label=0.14999, features=DenseVector([-122.74, 39.71, 255.0, 16.0, 73.0, 85.0, 38.0, 1.6607, 6.7105, 2.2368, 0.2863]), features_scaled=DenseVector([-61.2618, 18.5912, 0.1169, 1.2713, 0.1733, 0.0751, 0.0994, 0.8741, 2.7122, 0.2154, 4.9338]))]"
      ]
     },
     "execution_count": 40,
     "metadata": {},
     "output_type": "execute_result"
    }
   ],
   "source": [
    "train_data.take(1)"
   ]
  },
  {
   "cell_type": "markdown",
   "id": "0c087be4",
   "metadata": {},
   "source": [
    "### DecisionTree Regression Model"
   ]
  },
  {
   "cell_type": "code",
   "execution_count": 41,
   "id": "62a9186c",
   "metadata": {},
   "outputs": [],
   "source": [
    "from pyspark.ml.regression import DecisionTreeRegressor"
   ]
  },
  {
   "cell_type": "code",
   "execution_count": 42,
   "id": "8a01f901",
   "metadata": {},
   "outputs": [],
   "source": [
    "dtr=DecisionTreeRegressor().setFeaturesCol(\"features_scaled\").setLabelCol(\"label\")"
   ]
  },
  {
   "cell_type": "code",
   "execution_count": 43,
   "id": "281b2610",
   "metadata": {},
   "outputs": [],
   "source": [
    "#Train the model using our training data\n",
    "model = dtr.fit(train_data)"
   ]
  },
  {
   "cell_type": "code",
   "execution_count": 44,
   "id": "91a3c271",
   "metadata": {},
   "outputs": [],
   "source": [
    "# Now see if we can predict values in our test data.\n",
    "# Generate predictions using our decision tree model for all features in our\n",
    "# test dataframe:\n",
    "fullPredictions = model.transform(test_data)"
   ]
  },
  {
   "cell_type": "code",
   "execution_count": 45,
   "id": "66a4b7e4",
   "metadata": {},
   "outputs": [
    {
     "name": "stdout",
     "output_type": "stream",
     "text": [
      "+-------+--------------------+--------------------+------------------+\n",
      "|  label|            features|     features_scaled|        prediction|\n",
      "+-------+--------------------+--------------------+------------------+\n",
      "|0.14999|[-117.86000061035...|[-58.826120936731...| 2.354065861111111|\n",
      "|  0.225|[-122.31999969482...|[-61.052189527960...|1.2946616099635477|\n",
      "|  0.388|[-118.27999877929...|[-59.035749843499...|1.2228542710997443|\n",
      "|  0.394|[-119.01000213623...|[-59.400108112096...|0.9143131710526317|\n",
      "|  0.396|[-119.79000091552...|[-59.789420026942...|1.2228542710997443|\n",
      "+-------+--------------------+--------------------+------------------+\n",
      "only showing top 5 rows\n",
      "\n"
     ]
    }
   ],
   "source": [
    "fullPredictions.show(5)"
   ]
  },
  {
   "cell_type": "code",
   "execution_count": 46,
   "id": "08f556be",
   "metadata": {},
   "outputs": [
    {
     "name": "stdout",
     "output_type": "stream",
     "text": [
      "RMSE on test data : 0.7288357333259797\n"
     ]
    }
   ],
   "source": [
    "from pyspark.ml.evaluation import RegressionEvaluator\n",
    "dtr_evaluator=RegressionEvaluator(labelCol=\"label\",predictionCol=\"prediction\",metricName=\"rmse\")\n",
    "rmse=dtr_evaluator.evaluate(fullPredictions)\n",
    "print(\"RMSE on test data : \" + str(rmse))"
   ]
  },
  {
   "cell_type": "code",
   "execution_count": 47,
   "id": "6694b576",
   "metadata": {},
   "outputs": [
    {
     "data": {
      "text/plain": [
       "SparseVector(11, {1: 0.0148, 3: 0.046, 5: 0.0007, 6: 0.0026, 7: 0.7769, 8: 0.0244, 9: 0.1346})"
      ]
     },
     "execution_count": 47,
     "metadata": {},
     "output_type": "execute_result"
    }
   ],
   "source": [
    "model.featureImportances"
   ]
  },
  {
   "cell_type": "markdown",
   "id": "7c63e51c",
   "metadata": {},
   "source": [
    "### Gradient booseted tree regression"
   ]
  },
  {
   "cell_type": "code",
   "execution_count": 48,
   "id": "098631b7",
   "metadata": {},
   "outputs": [
    {
     "name": "stdout",
     "output_type": "stream",
     "text": [
      "+------------------+-------+--------------------+\n",
      "|        prediction|  label|     features_scaled|\n",
      "+------------------+-------+--------------------+\n",
      "|2.8090014749287704|0.14999|[-58.826120936731...|\n",
      "|1.2667456414524811|  0.225|[-61.052189527960...|\n",
      "|1.4506361444288751|  0.388|[-59.035749843499...|\n",
      "|0.6352218192312801|  0.394|[-59.400108112096...|\n",
      "|0.8878245437356235|  0.396|[-59.789420026942...|\n",
      "+------------------+-------+--------------------+\n",
      "only showing top 5 rows\n",
      "\n"
     ]
    }
   ],
   "source": [
    "from pyspark.ml.regression import GBTRegressor\n",
    "gbt=GBTRegressor(featuresCol='features_scaled',labelCol='label',maxIter=10)\n",
    "gbt_model=gbt.fit(train_data)\n",
    "gbt_predictions=gbt_model.transform(test_data)\n",
    "gbt_predictions.select('prediction','label','features_scaled').show(5)"
   ]
  },
  {
   "cell_type": "code",
   "execution_count": 49,
   "id": "8738aefb",
   "metadata": {},
   "outputs": [
    {
     "name": "stdout",
     "output_type": "stream",
     "text": [
      "RMSE on test data : 0.6124941940722569\n"
     ]
    }
   ],
   "source": [
    "gbt_evaluator=RegressionEvaluator(labelCol=\"label\",predictionCol=\"prediction\",metricName=\"rmse\")\n",
    "rmse=gbt_evaluator.evaluate(gbt_predictions)\n",
    "print(\"RMSE on test data : \" + str(rmse))"
   ]
  },
  {
   "cell_type": "code",
   "execution_count": 50,
   "id": "a70cd500",
   "metadata": {},
   "outputs": [],
   "source": [
    "# Extract the predictions and the \"known\" correct labels.\n",
    "predictions = gbt_predictions.select(\"prediction\").rdd.map(lambda x: x[0])\n",
    "labels = gbt_predictions.select(\"label\").rdd.map(lambda x: x[0])"
   ]
  },
  {
   "cell_type": "code",
   "execution_count": 51,
   "id": "a6f071a4",
   "metadata": {},
   "outputs": [],
   "source": [
    "predictionAndLabel = predictions.zip(labels).collect()"
   ]
  },
  {
   "cell_type": "code",
   "execution_count": 52,
   "id": "41d1949f",
   "metadata": {},
   "outputs": [
    {
     "data": {
      "text/plain": [
       "[(2.8090014749287704, 0.14999),\n",
       " (1.2667456414524811, 0.225),\n",
       " (1.4506361444288751, 0.388),\n",
       " (0.6352218192312801, 0.394),\n",
       " (0.8878245437356235, 0.396),\n",
       " (0.6789387677677506, 0.398),\n",
       " (0.8407893028587105, 0.4),\n",
       " (0.5857884591607624, 0.431),\n",
       " (0.8206748531451927, 0.44),\n",
       " (0.6059029088742801, 0.441)]"
      ]
     },
     "execution_count": 52,
     "metadata": {},
     "output_type": "execute_result"
    }
   ],
   "source": [
    "predictionAndLabel[:10]"
   ]
  },
  {
   "cell_type": "markdown",
   "id": "90019991",
   "metadata": {},
   "source": [
    "### Multi Linear Regression Model"
   ]
  },
  {
   "cell_type": "code",
   "execution_count": 53,
   "id": "542564ae",
   "metadata": {},
   "outputs": [],
   "source": [
    "from pyspark.ml.regression import LinearRegression\n",
    "lr=LinearRegression(featuresCol=\"features_scaled\",labelCol=\"label\",maxIter=10,regParam=0.3,elasticNetParam=0.8)\n",
    "linearModel=lr.fit(train_data)"
   ]
  },
  {
   "cell_type": "code",
   "execution_count": 54,
   "id": "5e1f7a36",
   "metadata": {},
   "outputs": [
    {
     "name": "stdout",
     "output_type": "stream",
     "text": [
      "Coefficients : [0.0,0.0,0.0,0.0,0.0,0.0,0.0,0.526282294549046,0.0,0.0,0.0]\n"
     ]
    }
   ],
   "source": [
    "print(\"Coefficients : \" + str(linearModel.coefficients))"
   ]
  },
  {
   "cell_type": "code",
   "execution_count": 55,
   "id": "27e10028",
   "metadata": {},
   "outputs": [
    {
     "name": "stdout",
     "output_type": "stream",
     "text": [
      "Intercept : 0.9916505016471527\n"
     ]
    }
   ],
   "source": [
    "print(\"Intercept : \" + str(linearModel.intercept))"
   ]
  },
  {
   "cell_type": "code",
   "execution_count": 56,
   "id": "8dd869a9",
   "metadata": {},
   "outputs": [
    {
     "name": "stdout",
     "output_type": "stream",
     "text": [
      "RMSE : 0.8765426709359433\n",
      "R^2 : 0.4195260943255117\n"
     ]
    }
   ],
   "source": [
    "train_summary=linearModel.summary\n",
    "print(\"RMSE : \" + str(train_summary.rootMeanSquaredError))\n",
    "print(\"R^2 : \"+ str(train_summary.r2))"
   ]
  },
  {
   "cell_type": "code",
   "execution_count": 57,
   "id": "23f99e13",
   "metadata": {},
   "outputs": [
    {
     "name": "stdout",
     "output_type": "stream",
     "text": [
      "+-------+--------------------+--------------------+------------------+\n",
      "|  label|            features|     features_scaled|        prediction|\n",
      "+-------+--------------------+--------------------+------------------+\n",
      "|0.14999|[-117.86000061035...|[-58.826120936731...|2.1532368519840652|\n",
      "|  0.225|[-122.31999969482...|[-61.052189527960...|1.7326700927043257|\n",
      "|  0.388|[-118.27999877929...|[-59.035749843499...| 1.528370308475589|\n",
      "|  0.394|[-119.01000213623...|[-59.400108112096...|1.4190595193689055|\n",
      "|  0.396|[-119.79000091552...|[-59.789420026942...|1.2828781450668982|\n",
      "+-------+--------------------+--------------------+------------------+\n",
      "only showing top 5 rows\n",
      "\n"
     ]
    }
   ],
   "source": [
    "lr_predicted=linearModel.transform(test_data)\n",
    "lr_predicted.show(5)"
   ]
  },
  {
   "cell_type": "code",
   "execution_count": 58,
   "id": "8142b869",
   "metadata": {},
   "outputs": [
    {
     "name": "stdout",
     "output_type": "stream",
     "text": [
      "R2 on test data : 0.41955411933428455\n"
     ]
    }
   ],
   "source": [
    "lr_evaluator=RegressionEvaluator(labelCol=\"label\",predictionCol=\"prediction\",metricName=\"r2\")\n",
    "r2=lr_evaluator.evaluate(lr_predicted)\n",
    "print(\"R2 on test data : \" + str(r2))"
   ]
  },
  {
   "cell_type": "code",
   "execution_count": 59,
   "id": "ba130a9a",
   "metadata": {},
   "outputs": [
    {
     "name": "stdout",
     "output_type": "stream",
     "text": [
      "RMSE on test data 0.8892048171311064\n"
     ]
    }
   ],
   "source": [
    "test_res=linearModel.evaluate(test_data)\n",
    "print(\"RMSE on test data \" + str(test_res.rootMeanSquaredError))"
   ]
  },
  {
   "cell_type": "code",
   "execution_count": 60,
   "id": "8018ec2f",
   "metadata": {},
   "outputs": [
    {
     "name": "stdout",
     "output_type": "stream",
     "text": [
      "+-------------------+\n",
      "|          residuals|\n",
      "+-------------------+\n",
      "|  -1.30170208288436|\n",
      "| -1.423395491662186|\n",
      "|-1.4722658468860856|\n",
      "|-0.9790814961018388|\n",
      "|-1.3631489881820185|\n",
      "|-1.3308405819627116|\n",
      "| -1.422669815482754|\n",
      "|-1.0277271236909837|\n",
      "|-1.7804791779356688|\n",
      "|-0.9804163211371992|\n",
      "|-1.1475876677649184|\n",
      "|-1.2420729132629886|\n",
      "| -1.263979423528471|\n",
      "|-0.8829435852696769|\n",
      "| -0.915130175001156|\n",
      "|-1.4823276094349533|\n",
      "| -1.234979423528471|\n",
      "|-1.0974296820083211|\n",
      "|-1.1415337734361293|\n",
      "|-1.2027434879385477|\n",
      "+-------------------+\n",
      "only showing top 20 rows\n",
      "\n"
     ]
    }
   ],
   "source": [
    "train_summary.residuals.show()"
   ]
  },
  {
   "cell_type": "code",
   "execution_count": 61,
   "id": "22d33787",
   "metadata": {},
   "outputs": [],
   "source": [
    "# Extract the predictions and the \"known\" correct labels.\n",
    "predictions = lr_predicted.select(\"prediction\").rdd.map(lambda x: x[0])\n",
    "labels = lr_predicted.select(\"label\").rdd.map(lambda x: x[0])"
   ]
  },
  {
   "cell_type": "code",
   "execution_count": 62,
   "id": "009fa950",
   "metadata": {},
   "outputs": [],
   "source": [
    "predictionAndLabel = predictions.zip(labels).collect()"
   ]
  },
  {
   "cell_type": "code",
   "execution_count": 63,
   "id": "2326d8d8",
   "metadata": {
    "scrolled": true
   },
   "outputs": [
    {
     "data": {
      "text/plain": [
       "[(2.1532368519840652, 0.14999),\n",
       " (1.7326700927043257, 0.225),\n",
       " (1.528370308475589, 0.388),\n",
       " (1.4190595193689055, 0.394),\n",
       " (1.2828781450668982, 0.396),\n",
       " (1.5209462515073842, 0.398),\n",
       " (1.457952674892025, 0.4),\n",
       " (1.3675344208193962, 0.431),\n",
       " (1.5854080289670214, 0.44),\n",
       " (1.3530741615594604, 0.441)]"
      ]
     },
     "execution_count": 63,
     "metadata": {},
     "output_type": "execute_result"
    }
   ],
   "source": [
    "predictionAndLabel[:10]"
   ]
  },
  {
   "cell_type": "markdown",
   "id": "ec872d7d",
   "metadata": {},
   "source": [
    "### Random Forest Regression"
   ]
  },
  {
   "cell_type": "code",
   "execution_count": 64,
   "id": "5d017ebe",
   "metadata": {},
   "outputs": [],
   "source": [
    "from pyspark.ml.regression import RandomForestRegressor\n",
    "rfr=RandomForestRegressor(featuresCol=\"features\",labelCol=\"label\") #default numtress is 20"
   ]
  },
  {
   "cell_type": "code",
   "execution_count": 65,
   "id": "8327033e",
   "metadata": {},
   "outputs": [],
   "source": [
    "rfr_model=rfr.fit(train_data)"
   ]
  },
  {
   "cell_type": "code",
   "execution_count": 66,
   "id": "0811ba54",
   "metadata": {},
   "outputs": [],
   "source": [
    "rfr_predictions=rfr_model.transform(test_data)"
   ]
  },
  {
   "cell_type": "code",
   "execution_count": 67,
   "id": "b000b1a7",
   "metadata": {},
   "outputs": [
    {
     "name": "stdout",
     "output_type": "stream",
     "text": [
      "+-------+--------------------+--------------------+------------------+\n",
      "|  label|            features|     features_scaled|        prediction|\n",
      "+-------+--------------------+--------------------+------------------+\n",
      "|0.14999|[-117.86000061035...|[-58.826120936731...|2.1147607549410763|\n",
      "|  0.225|[-122.31999969482...|[-61.052189527960...| 1.606042016818709|\n",
      "|  0.388|[-118.27999877929...|[-59.035749843499...|1.5087653540008135|\n",
      "|  0.394|[-119.01000213623...|[-59.400108112096...|1.1432521285462347|\n",
      "|  0.396|[-119.79000091552...|[-59.789420026942...|1.2253371983221595|\n",
      "+-------+--------------------+--------------------+------------------+\n",
      "only showing top 5 rows\n",
      "\n"
     ]
    }
   ],
   "source": [
    "rfr_predictions.show(5)"
   ]
  },
  {
   "cell_type": "code",
   "execution_count": 68,
   "id": "c3639ad8",
   "metadata": {},
   "outputs": [
    {
     "name": "stdout",
     "output_type": "stream",
     "text": [
      "RMSE on test data : 0.6929705204987672\n"
     ]
    }
   ],
   "source": [
    "rfr_evaluator=RegressionEvaluator(labelCol=\"label\",predictionCol=\"prediction\",metricName=\"rmse\")\n",
    "rmse=dtr_evaluator.evaluate(rfr_predictions)\n",
    "print(\"RMSE on test data : \" + str(rmse))"
   ]
  },
  {
   "cell_type": "code",
   "execution_count": 69,
   "id": "d685bd44",
   "metadata": {},
   "outputs": [
    {
     "data": {
      "image/png": "[encoded data removed]",
      "text/plain": [
       "<Figure size 1440x432 with 1 Axes>"
      ]
     },
     "metadata": {
      "needs_background": "light"
     },
     "output_type": "display_data"
    }
   ],
   "source": [
    "import matplotlib.pyplot as plt \n",
    "evaluator = RegressionEvaluator(labelCol=\"label\", predictionCol=\"prediction\", metricName=\"rmse\")\n",
    "rmse = evaluator.evaluate(rfr_predictions) \n",
    "rfPred = rfr_model.transform(test_data) \n",
    "rfResult = rfPred.toPandas() \n",
    "plt.figure(figsize=(20,6))\n",
    "plt.plot(rfResult.label, rfResult.prediction, 'bo') \n",
    "plt.xlabel('Price') \n",
    "plt.ylabel('Prediction') \n",
    "plt.suptitle(\"Model Performance RMSE: %f\" % rmse) \n",
    "plt.show()"
   ]
  },
  {
   "cell_type": "code",
   "execution_count": 70,
   "id": "290756c3",
   "metadata": {},
   "outputs": [
    {
     "data": {
      "text/plain": [
       "20"
      ]
     },
     "execution_count": 70,
     "metadata": {},
     "output_type": "execute_result"
    }
   ],
   "source": [
    "rfr_model.getNumTrees"
   ]
  },
  {
   "cell_type": "code",
   "execution_count": 71,
   "id": "f1219ea9",
   "metadata": {},
   "outputs": [
    {
     "data": {
      "text/plain": [
       "5"
      ]
     },
     "execution_count": 71,
     "metadata": {},
     "output_type": "execute_result"
    }
   ],
   "source": [
    "rfr_model.getOrDefault('maxDepth')"
   ]
  }
 ],
 "metadata": {
  "kernelspec": {
   "display_name": "Python 3 (ipykernel)",
   "language": "python",
   "name": "python3"
  },
  "language_info": {
   "codemirror_mode": {
    "name": "ipython",
    "version": 3
   },
   "file_extension": ".py",
   "mimetype": "text/x-python",
   "name": "python",
   "nbconvert_exporter": "python",
   "pygments_lexer": "ipython3",
   "version": "3.9.12"
  }
 },
 "nbformat": 4,
 "nbformat_minor": 5
}
